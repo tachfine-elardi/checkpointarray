{
 "cells": [
  {
   "cell_type": "code",
   "execution_count": 1,
   "id": "42af4ec9",
   "metadata": {},
   "outputs": [],
   "source": [
    "import numpy as np\n",
    "import random "
   ]
  },
  {
   "cell_type": "code",
   "execution_count": 7,
   "id": "b27c1c1a",
   "metadata": {},
   "outputs": [
    {
     "data": {
      "text/plain": [
       "list"
      ]
     },
     "execution_count": 7,
     "metadata": {},
     "output_type": "execute_result"
    }
   ],
   "source": [
    "# ex 1 \n",
    "x = np.random.rand(1,9)\n",
    "np_list = x.tolist()\n",
    "type(np_list)"
   ]
  },
  {
   "cell_type": "code",
   "execution_count": 51,
   "id": "d8e45d70",
   "metadata": {},
   "outputs": [],
   "source": [
    "#ex 2\n",
    "x_array =np.array([[2,2],[3,5]])\n",
    "add = np.trace(x_array)"
   ]
  },
  {
   "cell_type": "code",
   "execution_count": 127,
   "id": "f08ceda0",
   "metadata": {},
   "outputs": [],
   "source": []
  },
  {
   "cell_type": "code",
   "execution_count": 168,
   "id": "46130eb5",
   "metadata": {},
   "outputs": [
    {
     "data": {
      "text/plain": [
       "[3, 5]"
      ]
     },
     "execution_count": 168,
     "metadata": {},
     "output_type": "execute_result"
    }
   ],
   "source": [
    "#ex3\n",
    "a = np.array([[1,2],[3,5]])\n",
    "def highernum(dx):\n",
    "    numbers =[]\n",
    "    count = np.int32(dx)\n",
    "    for i in a:\n",
    "        for test in i:\n",
    "            if count < test:\n",
    "                count = test\n",
    "                numbers.append(test)\n",
    "    return numbers\n",
    "highernum(2)"
   ]
  },
  {
   "cell_type": "code",
   "execution_count": 176,
   "id": "e24c3729",
   "metadata": {},
   "outputs": [
    {
     "name": "stdout",
     "output_type": "stream",
     "text": [
      "[2 4]\n"
     ]
    }
   ],
   "source": [
    "#ex4\n",
    "A = np.array([1,2]) \n",
    "B = np.array([1,2])\n",
    "C = A+B\n",
    "print(A+B)"
   ]
  },
  {
   "cell_type": "code",
   "execution_count": 199,
   "id": "270830a1",
   "metadata": {},
   "outputs": [],
   "source": [
    "#ex5\n",
    "A = np.array([[1,2,3],[1,5,9]]) "
   ]
  },
  {
   "cell_type": "code",
   "execution_count": 203,
   "id": "f8eca164",
   "metadata": {},
   "outputs": [
    {
     "data": {
      "text/plain": [
       "-7.0"
      ]
     },
     "execution_count": 203,
     "metadata": {},
     "output_type": "execute_result"
    }
   ],
   "source": [
    "res = 0\n",
    "for i in A:\n",
    "    meana = i.mean()\n",
    "    res = res - meana\n",
    "res  \n"
   ]
  },
  {
   "cell_type": "code",
   "execution_count": null,
   "id": "daf42959",
   "metadata": {},
   "outputs": [],
   "source": []
  }
 ],
 "metadata": {
  "kernelspec": {
   "display_name": "Python 3 (ipykernel)",
   "language": "python",
   "name": "python3"
  },
  "language_info": {
   "codemirror_mode": {
    "name": "ipython",
    "version": 3
   },
   "file_extension": ".py",
   "mimetype": "text/x-python",
   "name": "python",
   "nbconvert_exporter": "python",
   "pygments_lexer": "ipython3",
   "version": "3.9.12"
  }
 },
 "nbformat": 4,
 "nbformat_minor": 5
}
